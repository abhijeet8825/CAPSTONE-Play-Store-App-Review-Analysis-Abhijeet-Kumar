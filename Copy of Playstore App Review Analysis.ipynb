{
  "nbformat": 4,
  "nbformat_minor": 0,
  "metadata": {
    "colab": {
      "private_outputs": true,
      "provenance": [],
      "collapsed_sections": [
        "yQaldy8SH6Dl",
        "PH-0ReGfmX4f",
        "mDgbUHAGgjLW",
        "lQ7QKXXCp7Bj",
        "448CDAPjqfQr",
        "t6dVpIINYklI",
        "ijmpgYnKYklI",
        "-JiQyfWJYklI",
        "fge-S5ZAYoAp",
        "85gYPyotYoAp",
        "RoGjAbkUYoAp",
        "iky9q4vBYrdO",
        "F6T5p64dYrdO",
        "y-Ehk30pYrdP",
        "QHF8YVU7Yuh3",
        "GwzvFGzlYuh3",
        "qYpmQ266Yuh3",
        "bbFf2-_FphqN",
        "_ouA3fa0phqN",
        "Seke61FWphqN",
        "t27r6nlMphqO",
        "r2jJGEOYphqO",
        "rFu4xreNphqO",
        "gCFgpxoyphqP",
        "OVtJsKN_phqQ",
        "lssrdh5qphqQ",
        "X_VqEhTip1ck",
        "8zGJKyg5p1ck",
        "PVzmfK_Ep1ck",
        "ylSl6qgtp1ck",
        "ZWILFDl5p1ck",
        "JcMwzZxoAimU",
        "8G2x9gOozGDZ",
        "gCX9965dhzqZ",
        "gIfDvo9L0UH2"
      ],
      "cell_execution_strategy": "setup"
    },
    "kernelspec": {
      "name": "python3",
      "display_name": "Python 3"
    },
    "language_info": {
      "name": "python"
    }
  },
  "cells": [
    {
      "cell_type": "markdown",
      "source": [
        "# **Project Name**    - **Playstore App Review Analysis**\n",
        "\n"
      ],
      "metadata": {
        "id": "vncDsAP0Gaoa"
      }
    },
    {
      "cell_type": "markdown",
      "source": [
        "##### **Project Type**    - EDA\n",
        "##### **Contribution**    - Individual\n"
      ],
      "metadata": {
        "id": "beRrZCGUAJYm"
      }
    },
    {
      "cell_type": "markdown",
      "source": [
        "# **Project Summary -**"
      ],
      "metadata": {
        "id": "FJNUwmbgGyua"
      }
    },
    {
      "cell_type": "markdown",
      "source": [
        "In this project I have intracted with plastore and user reviews data.First  of all,I understand playstore data which have size,price,reviews etc columns.Furthermore I load the data and read the data using pandas in google colab ide,I have performed data wrangling and cleaned dirty data,I analysed data and checked for null values and data types then removed null values by analysing the data if I drop null values it will not effect the visualisation.I have also changed the data types of installs,price,size from string to int and float,most important changed data type of last update column from strig to datetime which further helped in visualisation of update apps in different months.After data wrangling it was ready for visualisation.After visualisation I come to know that in family category there are more number of apps and event and beauty category has less numbers of apps.From further visualisation come to know about numbers of free apps are more and paid apps are less,if I talk about apps update,in 7th months all paid and free gets update."
      ],
      "metadata": {
        "id": "F6v_1wHtG2nS"
      }
    },
    {
      "cell_type": "markdown",
      "source": [
        "# **GitHub Link -**"
      ],
      "metadata": {
        "id": "w6K7xa23Elo4"
      }
    },
    {
      "cell_type": "markdown",
      "source": [
        "https://github.com/abhijeet8825"
      ],
      "metadata": {
        "id": "h1o69JH3Eqqn"
      }
    },
    {
      "cell_type": "markdown",
      "source": [
        "# **Problem Statement**"
      ],
      "metadata": {
        "id": "yQaldy8SH6Dl"
      }
    },
    {
      "cell_type": "markdown",
      "source": [
        "* What are the top categories on Play Store?\n",
        "* Are majority of the apps Paid or Free?\n",
        "* How importance is the rating of the application?\n",
        "* Which categories from the audience should the app be based on?\n",
        "* Which category has the most no. of installations?\n",
        "* How does the count of apps varies by Genres?\n",
        "* How does the last update has an effect on the rating?\n",
        "* How are ratings affected when the app is a paid one?\n",
        "* How are reviews and ratings co-related?\n",
        "* Lets us discuss the sentiment subjectivity.\n",
        "* Is subjectivity and polarity proportional to each other?\n",
        "* What is the percentage of review sentiments?\n",
        "* How is sentiment polarity varying for paid and free apps?\n",
        "* How Content Rating affect over the App?\n",
        "* Does Last Update date has an effects on rating?\n",
        "* Distribution of App update over the Year.\n",
        "* Distribution of Paid and Free app updated over the Month."
      ],
      "metadata": {
        "id": "DpeJGUA3kjGy"
      }
    },
    {
      "cell_type": "markdown",
      "source": [
        "#### **Define Your Business Objective?**"
      ],
      "metadata": {
        "id": "PH-0ReGfmX4f"
      }
    },
    {
      "cell_type": "markdown",
      "source": [
        "Rating should be above 4.5 of all apps"
      ],
      "metadata": {
        "id": "PhDvGCAqmjP1"
      }
    },
    {
      "cell_type": "markdown",
      "source": [
        "# **General Guidelines** : -  "
      ],
      "metadata": {
        "id": "mDgbUHAGgjLW"
      }
    },
    {
      "cell_type": "markdown",
      "source": [
        "1.   Well-structured, formatted, and commented code is required.\n",
        "2.   Exception Handling, Production Grade Code & Deployment Ready Code will be a plus. Those students will be awarded some additional credits.\n",
        "     \n",
        "     The additional credits will have advantages over other students during Star Student selection.\n",
        "       \n",
        "             [ Note: - Deployment Ready Code is defined as, the whole .ipynb notebook should be executable in one go\n",
        "                       without a single error logged. ]\n",
        "\n",
        "3.   Each and every logic should have proper comments.\n",
        "4. You may add as many number of charts you want. Make Sure for each and every chart the following format should be answered.\n",
        "        \n",
        "\n",
        "```\n",
        "# Chart visualization code\n",
        "```\n",
        "            \n",
        "\n",
        "*   Why did you pick the specific chart?\n",
        "*   What is/are the insight(s) found from the chart?\n",
        "* Will the gained insights help creating a positive business impact?\n",
        "Are there any insights that lead to negative growth? Justify with specific reason.\n",
        "\n",
        "5. You have to create at least 20 logical & meaningful charts having important insights.\n",
        "\n",
        "\n",
        "[ Hints : - Do the Vizualization in  a structured way while following \"UBM\" Rule.\n",
        "\n",
        "U - Univariate Analysis,\n",
        "\n",
        "B - Bivariate Analysis (Numerical - Categorical, Numerical - Numerical, Categorical - Categorical)\n",
        "\n",
        "M - Multivariate Analysis\n",
        " ]\n",
        "\n",
        "\n",
        "\n"
      ],
      "metadata": {
        "id": "ZrxVaUj-hHfC"
      }
    },
    {
      "cell_type": "markdown",
      "source": [
        "# ***Let's Begin !***"
      ],
      "metadata": {
        "id": "O_i_v8NEhb9l"
      }
    },
    {
      "cell_type": "markdown",
      "source": [
        "## ***1. Know Your Data***"
      ],
      "metadata": {
        "id": "HhfV-JJviCcP"
      }
    },
    {
      "cell_type": "markdown",
      "source": [
        "### Import Libraries"
      ],
      "metadata": {
        "id": "Y3lxredqlCYt"
      }
    },
    {
      "cell_type": "code",
      "source": [
        "# Import Libraries\n",
        "import pandas as pd\n",
        "import seaborn as sns\n",
        "import matplotlib.pyplot as plt\n",
        "import numpy as np"
      ],
      "metadata": {
        "id": "M8Vqi-pPk-HR"
      },
      "execution_count": null,
      "outputs": []
    },
    {
      "cell_type": "markdown",
      "source": [
        "### Dataset Loading"
      ],
      "metadata": {
        "id": "3RnN4peoiCZX"
      }
    },
    {
      "cell_type": "code",
      "source": [
        "# Load Dataset\n",
        "from google.colab import drive\n",
        "drive.mount('/content/drive')\n",
        "path='/content/drive/MyDrive/Data/Play_Store_Data.csv'\n",
        "df=pd.read_csv(path)"
      ],
      "metadata": {
        "id": "4CkvbW_SlZ_R"
      },
      "execution_count": null,
      "outputs": []
    },
    {
      "cell_type": "markdown",
      "source": [
        "### Dataset First View"
      ],
      "metadata": {
        "id": "x71ZqKXriCWQ"
      }
    },
    {
      "cell_type": "code",
      "source": [
        "# Dataset First Look\n",
        "df.head()"
      ],
      "metadata": {
        "id": "LWNFOSvLl09H"
      },
      "execution_count": null,
      "outputs": []
    },
    {
      "cell_type": "markdown",
      "source": [
        "### Dataset Rows & Columns count"
      ],
      "metadata": {
        "id": "7hBIi_osiCS2"
      }
    },
    {
      "cell_type": "code",
      "source": [
        "# Dataset Rows & Columns count\n",
        "df.shape"
      ],
      "metadata": {
        "id": "Kllu7SJgmLij"
      },
      "execution_count": null,
      "outputs": []
    },
    {
      "cell_type": "markdown",
      "source": [
        "### Dataset Information"
      ],
      "metadata": {
        "id": "JlHwYmJAmNHm"
      }
    },
    {
      "cell_type": "code",
      "source": [
        "# Dataset Info\n",
        "df.info()"
      ],
      "metadata": {
        "id": "e9hRXRi6meOf"
      },
      "execution_count": null,
      "outputs": []
    },
    {
      "cell_type": "markdown",
      "source": [
        "#### Duplicate Values"
      ],
      "metadata": {
        "id": "35m5QtbWiB9F"
      }
    },
    {
      "cell_type": "code",
      "source": [
        "# Dataset Duplicate Value Count\n",
        "len(df[df.duplicated()])"
      ],
      "metadata": {
        "id": "1sLdpKYkmox0"
      },
      "execution_count": null,
      "outputs": []
    },
    {
      "cell_type": "markdown",
      "source": [
        "#### Missing Values/Null Values"
      ],
      "metadata": {
        "id": "PoPl-ycgm1ru"
      }
    },
    {
      "cell_type": "code",
      "source": [
        "# Missing Values/Null Values Count\n",
        "df.isnull().sum()"
      ],
      "metadata": {
        "id": "GgHWkxvamxVg"
      },
      "execution_count": null,
      "outputs": []
    },
    {
      "cell_type": "code",
      "source": [
        "# Visualizing the missing values\n",
        "sns.heatmap(df.isnull(), cbar=False)"
      ],
      "metadata": {
        "id": "3q5wnI3om9sJ"
      },
      "execution_count": null,
      "outputs": []
    },
    {
      "cell_type": "markdown",
      "source": [
        "### What did you know about your dataset?"
      ],
      "metadata": {
        "id": "H0kj-8xxnORC"
      }
    },
    {
      "cell_type": "markdown",
      "source": [
        "The datset which is given contains playstore data,which includes app name,category,Ratings,installs and many more.We have to analyse these data and draws meaning inshigts from them,like which app has most number of installs and good ratings etc."
      ],
      "metadata": {
        "id": "gfoNAAC-nUe_"
      }
    },
    {
      "cell_type": "markdown",
      "source": [
        "## ***2. Understanding Your Variables***"
      ],
      "metadata": {
        "id": "nA9Y7ga8ng1Z"
      }
    },
    {
      "cell_type": "code",
      "source": [
        "# Dataset Columns\n",
        "df.columns"
      ],
      "metadata": {
        "id": "j7xfkqrt5Ag5"
      },
      "execution_count": null,
      "outputs": []
    },
    {
      "cell_type": "code",
      "source": [
        "# Dataset Describe\n",
        "df.describe()"
      ],
      "metadata": {
        "id": "DnOaZdaE5Q5t"
      },
      "execution_count": null,
      "outputs": []
    },
    {
      "cell_type": "markdown",
      "source": [
        "### Variables Description"
      ],
      "metadata": {
        "id": "PBTbrJXOngz2"
      }
    },
    {
      "cell_type": "markdown",
      "source": [
        "* **App** - It tells us about the name of the application with a short\n",
        "   description (optional).\n",
        "* **Category** - It gives the category to the app.\n",
        "* **Rating** - It contains the average rating the respective app received from its users.\n",
        "* **Reviews** - It tells us about the total number of users who have given a review for the application.\n",
        "* **Size** - It tells us about the size being occupied the application on the mobile phone.\n",
        "* **Installs** - It tells us about the total number of installs/downloads for an application.\n",
        "* **Type** - It states whether an app is free to use or paid.\n",
        "* **Price** - It gives the price payable to install the app. For free type apps, the price is zero.\n",
        "* **Content Rating** - It states whether or not an app is suitable for all age groups or not.\n",
        "* **Genres** - It tells us about the various other categories to which an application can belong.\n",
        "* **Last Updated** - It tells us about the when the application was updated.\n",
        "* **Current Ver** - It tells us about the current version of the application.\n",
        "* **Android Ver** - It tells us about the android version which can support the application on its platform.\n",
        "\n",
        "\n",
        "\n",
        "\n"
      ],
      "metadata": {
        "id": "aJV4KIxSnxay"
      }
    },
    {
      "cell_type": "markdown",
      "source": [
        "### Check Unique Values for each variable."
      ],
      "metadata": {
        "id": "u3PMJOP6ngxN"
      }
    },
    {
      "cell_type": "code",
      "source": [
        "# Check Unique Values for each variable.\n",
        "for i in df.columns.tolist():\n",
        "  print(\"No. of unique values in \",i,\"is\",df[i].nunique(),\".\")"
      ],
      "metadata": {
        "id": "zms12Yq5n-jE"
      },
      "execution_count": null,
      "outputs": []
    },
    {
      "cell_type": "markdown",
      "source": [
        "## 3. ***Data Wrangling***"
      ],
      "metadata": {
        "id": "dauF4eBmngu3"
      }
    },
    {
      "cell_type": "markdown",
      "source": [
        "### Data Wrangling Code"
      ],
      "metadata": {
        "id": "bKJF3rekwFvQ"
      }
    },
    {
      "cell_type": "code",
      "source": [
        "# Write your code to make your dataset analysis ready.\n",
        "# Changing the data type of Last update from string to datetime.\n",
        "df[\"Last Updated\"] = pd.to_datetime(df[\"Last Updated\"],errors=\"coerce\")\n",
        "df.head()\n"
      ],
      "metadata": {
        "id": "wk-9a2fpoLcV"
      },
      "execution_count": null,
      "outputs": []
    },
    {
      "cell_type": "code",
      "source": [
        "# Removing all null values\n",
        "df.dropna(inplace=True)\n",
        "df.isnull().sum()\n",
        "df.info()"
      ],
      "metadata": {
        "id": "UOQ3hr5oIkrD"
      },
      "execution_count": null,
      "outputs": []
    },
    {
      "cell_type": "code",
      "source": [
        "# Removing + and , from column installs\n",
        "\n",
        "df[\"Installs\"]=df[\"Installs\"].str.replace(\"\\+\",\"\",regex=True)\n",
        "df[\"Installs\"]=df[\"Installs\"].str.replace(\"\\,\",\"\",regex=True)\n",
        "df.head()"
      ],
      "metadata": {
        "id": "umVsYKdwTht8"
      },
      "execution_count": null,
      "outputs": []
    },
    {
      "cell_type": "code",
      "source": [
        "# Converting Istalls column from string to int datatype\n",
        "\n",
        "df[\"Installs\"]=df[\"Installs\"].astype(\"int\")\n",
        "df[\"Installs\"].dtypes"
      ],
      "metadata": {
        "id": "8X8yZ2qDgXll"
      },
      "execution_count": null,
      "outputs": []
    },
    {
      "cell_type": "code",
      "source": [
        "# Changing data type of Reviews column from string to int\n",
        "\n",
        "df[\"Reviews\"]=df[\"Reviews\"].astype(\"int\")\n",
        "df[\"Reviews\"].dtypes\n"
      ],
      "metadata": {
        "id": "DI6QH88Ru6V9"
      },
      "execution_count": null,
      "outputs": []
    },
    {
      "cell_type": "code",
      "source": [
        "# Converting data type of price column from string to float\n",
        "df[\"Price\"]=df[\"Price\"].str.replace(\"$\",\"\")\n",
        "df.loc[234:235]"
      ],
      "metadata": {
        "id": "2MPQqPe2Q9oW"
      },
      "execution_count": null,
      "outputs": []
    },
    {
      "cell_type": "code",
      "source": [
        "df[\"Price\"]=df[\"Price\"].astype(\"float\")\n",
        "df[\"Price\"].dtypes"
      ],
      "metadata": {
        "id": "MRzD0QfkTFs8"
      },
      "execution_count": null,
      "outputs": []
    },
    {
      "cell_type": "code",
      "source": [
        "# Updating name of price column to price in dollar\n",
        "\n",
        "df.rename(columns={\"Price\":\"price in dollar\"},inplace=True)\n",
        "df.head()"
      ],
      "metadata": {
        "id": "haQnThG9TgN7"
      },
      "execution_count": null,
      "outputs": []
    },
    {
      "cell_type": "code",
      "source": [
        "# Changing name of column size to size in mb\n",
        "\n",
        "df.rename(columns={\"Size\":\"Size in M.B\"},inplace=True)\n",
        "df.columns"
      ],
      "metadata": {
        "id": "f5riHSc5hCuQ"
      },
      "execution_count": null,
      "outputs": []
    },
    {
      "cell_type": "code",
      "source": [
        "# Removing M from column Size in M.B\n",
        "\n",
        "df[\"Size in M.B\"]=df[\"Size in M.B\"].str[:-1]\n",
        "df.head()"
      ],
      "metadata": {
        "id": "o8eVRPFfi1FG"
      },
      "execution_count": null,
      "outputs": []
    },
    {
      "cell_type": "code",
      "source": [
        "# Removing duplicate values from app\n",
        "\n",
        "df.drop_duplicates(\"App\",inplace=True)\n",
        "df.shape"
      ],
      "metadata": {
        "id": "o-86X05ArLqk"
      },
      "execution_count": null,
      "outputs": []
    },
    {
      "cell_type": "code",
      "source": [
        "df[\"App\"].value_counts()"
      ],
      "metadata": {
        "id": "A9-X4LHXrhS8"
      },
      "execution_count": null,
      "outputs": []
    },
    {
      "cell_type": "code",
      "source": [
        "df.shape"
      ],
      "metadata": {
        "id": "QgF-ke60tLc_"
      },
      "execution_count": null,
      "outputs": []
    },
    {
      "cell_type": "code",
      "source": [
        "df.describe()"
      ],
      "metadata": {
        "id": "-YNZWmUsvzMN"
      },
      "execution_count": null,
      "outputs": []
    },
    {
      "cell_type": "markdown",
      "source": [
        "***Now interact with User_Review.csv dataset***"
      ],
      "metadata": {
        "id": "CCy3_2uwEz4n"
      }
    },
    {
      "cell_type": "code",
      "source": [
        "# Load dataset\n",
        "\n",
        "from google.colab import drive\n",
        "drive.mount('/content/drive')\n",
        "new_path='/content/drive/MyDrive/Data/User_Reviews.csv'\n",
        "data=pd.read_csv(new_path)"
      ],
      "metadata": {
        "id": "sFlWevAGEww1"
      },
      "execution_count": null,
      "outputs": []
    },
    {
      "cell_type": "code",
      "source": [
        "# Dataset First Look\n",
        "data.head()"
      ],
      "metadata": {
        "id": "HNg8frfFF57H"
      },
      "execution_count": null,
      "outputs": []
    },
    {
      "cell_type": "code",
      "source": [
        "# Checking numbers of rows and columns\n",
        "\n",
        "data.shape"
      ],
      "metadata": {
        "id": "VQl-xnx8GXV0"
      },
      "execution_count": null,
      "outputs": []
    },
    {
      "cell_type": "code",
      "source": [
        "# Dataset Info\n",
        "\n",
        "data.info()"
      ],
      "metadata": {
        "id": "bVbrraXQGf3q"
      },
      "execution_count": null,
      "outputs": []
    },
    {
      "cell_type": "code",
      "source": [
        "# Removing all the null values\n",
        "\n",
        "data.dropna(inplace=True)\n",
        "data.shape"
      ],
      "metadata": {
        "id": "jeqrfEmLGwPW"
      },
      "execution_count": null,
      "outputs": []
    },
    {
      "cell_type": "code",
      "source": [
        "# Checking duplicates app name in app column\n",
        "\n",
        "data[\"App\"].value_counts()"
      ],
      "metadata": {
        "id": "TDT3OL7lHCbZ"
      },
      "execution_count": null,
      "outputs": []
    },
    {
      "cell_type": "code",
      "source": [
        "data.shape"
      ],
      "metadata": {
        "id": "g3e45bMXDSfY"
      },
      "execution_count": null,
      "outputs": []
    },
    {
      "cell_type": "markdown",
      "source": [
        "### What all manipulations have you done and insights you found?"
      ],
      "metadata": {
        "id": "MSa1f5Uengrz"
      }
    },
    {
      "cell_type": "markdown",
      "source": [
        "I have removed all null values and changed data types of some columns like installs from string to int and Reviews from string to int."
      ],
      "metadata": {
        "id": "LbyXE7I1olp8"
      }
    },
    {
      "cell_type": "markdown",
      "source": [
        "## ***4. Data Vizualization, Storytelling & Experimenting with charts : Understand the relationships between variables***"
      ],
      "metadata": {
        "id": "GF8Ens_Soomf"
      }
    },
    {
      "cell_type": "code",
      "source": [
        "df.columns"
      ],
      "metadata": {
        "id": "uEGtMCVkJ_MV"
      },
      "execution_count": null,
      "outputs": []
    },
    {
      "cell_type": "markdown",
      "source": [
        "#### Chart - 1 - Correlation Heatmap"
      ],
      "metadata": {
        "id": "9f3oH5XUhULN"
      }
    },
    {
      "cell_type": "code",
      "source": [
        "df.corr()"
      ],
      "metadata": {
        "id": "bwKPw8XRh7NB"
      },
      "execution_count": null,
      "outputs": []
    },
    {
      "cell_type": "code",
      "source": [
        "# Visualisation code for correlation heatmap\n",
        "plt.figure(figsize = (18,10))\n",
        "sns.heatmap(df.corr(), annot= True)\n",
        "plt.title('Correlation Heatmap for Playstore Data', size=20)"
      ],
      "metadata": {
        "id": "x2wZbChoiKOA"
      },
      "execution_count": null,
      "outputs": []
    },
    {
      "cell_type": "markdown",
      "source": [
        "##### 1. Why did you pick the specific chart?"
      ],
      "metadata": {
        "id": "PZCz_57HiSX5"
      }
    },
    {
      "cell_type": "markdown",
      "source": [
        "Correlation Heatmap is used to show correlation between two or more variable."
      ],
      "metadata": {
        "id": "ZxrbxkmyjOGP"
      }
    },
    {
      "cell_type": "markdown",
      "source": [
        "##### 2. What is/are the insight(s) found from the chart?"
      ],
      "metadata": {
        "id": "hDdIH_b1iYs3"
      }
    },
    {
      "cell_type": "markdown",
      "source": [
        "* There is a strong positive correlation between the Reviews and Installs column. This is pretty much obvious, Higher the number of installs, higher is the user base, and higher are the total number of reviews dropped by the users.\n",
        "*  Price is slightly negatively correlated with the Rating, Reviews, and Installs. This means that as the prices of the app increases, the average rating, total number of reviews and Installs fall slightly.\n",
        "* Rating is slightly positively correlated with the Installs and Reviews column. This indicates that as the the average user rating increases, the app installs and number of reviews also increase."
      ],
      "metadata": {
        "id": "5JucrnZ9idN4"
      }
    },
    {
      "cell_type": "markdown",
      "source": [
        "#### Chart - 2 - Pair Plot"
      ],
      "metadata": {
        "id": "NeefC0aljRE3"
      }
    },
    {
      "cell_type": "code",
      "source": [
        "# Pair Plot visualization code\n",
        "Rating =df['Rating']\n",
        "Installs =df['Installs']\n",
        "Reviews =df['Reviews']\n",
        "Type = df['Type']\n",
        "Price =df['price in dollar']\n",
        "\n",
        "p = sns.pairplot(pd.DataFrame(list(zip(Rating, np.log(Installs), np.log10(Reviews), Price , Type)),\n",
        "                        columns=['Rating', 'Installs', 'Reviews', 'Price','Type']), hue='Type')\n",
        "p.fig.suptitle(\"Pairwise Plot - Rating, Installs, Reviews, Price\",x=0.5, y=1.0, fontsize=16)"
      ],
      "metadata": {
        "id": "l7sbGoRKjiyL"
      },
      "execution_count": null,
      "outputs": []
    },
    {
      "cell_type": "markdown",
      "source": [
        "##### 1. Why did you pick the specific chart?"
      ],
      "metadata": {
        "id": "p0MfR1wDjWYv"
      }
    },
    {
      "cell_type": "markdown",
      "source": [
        "Pair plot is used to understand the best set of features to explain a relationship between two variables or to form the most separated clusters. It also helps to form some simple classification models by drawing some simple lines or make linear separation in our data-set."
      ],
      "metadata": {
        "id": "fHwBecAHjZtA"
      }
    },
    {
      "cell_type": "markdown",
      "source": [
        "##### 2. What is/are the insight(s) found from the chart?"
      ],
      "metadata": {
        "id": "TgMB00qsja64"
      }
    },
    {
      "cell_type": "markdown",
      "source": [
        "\n",
        "* Most of the App are Free.\n",
        "* Most of the Paid Apps have Rating around 4\n",
        "* As the number of installation increases the number of reviews of the particaular app also increases."
      ],
      "metadata": {
        "id": "b4aR73AFjfhL"
      }
    },
    {
      "cell_type": "markdown",
      "source": [
        "#### Chart - 3 Top categories on playstore"
      ],
      "metadata": {
        "id": "0wOQAZs5pc--"
      }
    },
    {
      "cell_type": "code",
      "source": [
        "# Chart - 3 visualization code\n",
        "x =df['Category'].value_counts()\n",
        "y =df['Category'].value_counts().index\n",
        "x_list = []\n",
        "y_list = []\n",
        "for i in range(len(x)):\n",
        "    x_list.append(x[i])\n",
        "    y_list.append(y[i])"
      ],
      "metadata": {
        "id": "7v_ESjsspbW7"
      },
      "execution_count": null,
      "outputs": []
    },
    {
      "cell_type": "code",
      "source": [
        "#Number of apps belonging to each category in the playstore\n",
        "plt.figure(figsize=(20,10))\n",
        "plt.xlabel('App category', size=15)\n",
        "plt.ylabel('Number of Apps', size=15)\n",
        "graph = sns.barplot(y = x_list, x = y_list, palette= \"tab10\")\n",
        "graph.set_title(\"Top categories on Playstore\", fontsize = 25)\n",
        "graph.set_xticklabels(graph.get_xticklabels(), rotation= 45, horizontalalignment='right',);"
      ],
      "metadata": {
        "id": "HHz0UTyML1Yj"
      },
      "execution_count": null,
      "outputs": []
    },
    {
      "cell_type": "markdown",
      "source": [
        "##### 1. Why did you pick the specific chart?"
      ],
      "metadata": {
        "id": "K5QZ13OEpz2H"
      }
    },
    {
      "cell_type": "markdown",
      "source": [
        "I have chose bar chart for this visualization beacause bar chart is best fits for the comparing two or more values."
      ],
      "metadata": {
        "id": "XESiWehPqBRc"
      }
    },
    {
      "cell_type": "markdown",
      "source": [
        "##### 2. What is/are the insight(s) found from the chart?"
      ],
      "metadata": {
        "id": "lQ7QKXXCp7Bj"
      }
    },
    {
      "cell_type": "markdown",
      "source": [
        "From the above bar chart it can be clearly seen that family category has highest numbers of app.So you can work on other categoy to increase some of those app."
      ],
      "metadata": {
        "id": "C_j1G7yiqdRP"
      }
    },
    {
      "cell_type": "markdown",
      "source": [
        "##### 3. Will the gained insights help creating a positive business impact?\n",
        "Are there any insights that lead to negative growth? Justify with specific reason."
      ],
      "metadata": {
        "id": "448CDAPjqfQr"
      }
    },
    {
      "cell_type": "markdown",
      "source": [
        "Yes of course this insights can increase the numbers of app in different category."
      ],
      "metadata": {
        "id": "3cspy4FjqxJW"
      }
    },
    {
      "cell_type": "markdown",
      "source": [
        "#### Chart - 4 Total percent of paid and free apps"
      ],
      "metadata": {
        "id": "KSlN3yHqYklG"
      }
    },
    {
      "cell_type": "code",
      "source": [
        "# Chart - 4 visualization code\n",
        "\n",
        "Type_data =df['Type'].value_counts()\n",
        "labels = ['Free', 'Paid']\n",
        "\n",
        "# create pie chart\n",
        "plt.figure(figsize=(10,10))\n",
        "colors = [\"#00EE76\",\"#7B8895\"]\n",
        "explode=(0.01,0.1)\n",
        "plt.pie(Type_data, labels = labels, colors = colors, autopct='%.2f%%',explode=explode,textprops={'fontsize': 15})\n",
        "plt.title('Distribution of Paid and Free apps',size=15,loc='center')\n",
        "plt.legend()"
      ],
      "metadata": {
        "id": "R4YgtaqtYklH"
      },
      "execution_count": null,
      "outputs": []
    },
    {
      "cell_type": "markdown",
      "source": [
        "##### 1. Why did you pick the specific chart?"
      ],
      "metadata": {
        "id": "t6dVpIINYklI"
      }
    },
    {
      "cell_type": "markdown",
      "source": [
        "Because pie chart is best fit for showing the proportions of different measures."
      ],
      "metadata": {
        "id": "5aaW0BYyYklI"
      }
    },
    {
      "cell_type": "markdown",
      "source": [
        "##### 2. What is/are the insight(s) found from the chart?"
      ],
      "metadata": {
        "id": "ijmpgYnKYklI"
      }
    },
    {
      "cell_type": "markdown",
      "source": [
        "It can clearly seen that percent of free apps is more and paid apps is less and this is good for business purpose."
      ],
      "metadata": {
        "id": "PSx9atu2YklI"
      }
    },
    {
      "cell_type": "markdown",
      "source": [
        "##### 3. Will the gained insights help creating a positive business impact?\n",
        "Are there any insights that lead to negative growth? Justify with specific reason."
      ],
      "metadata": {
        "id": "-JiQyfWJYklI"
      }
    },
    {
      "cell_type": "markdown",
      "source": [
        "Answer Here"
      ],
      "metadata": {
        "id": "BcBbebzrYklV"
      }
    },
    {
      "cell_type": "markdown",
      "source": [
        "#### Chart - 5 Which app category has highest number of installs"
      ],
      "metadata": {
        "id": "EM7whBJCYoAo"
      }
    },
    {
      "cell_type": "code",
      "source": [
        "# Chart - 5 visualization code\n",
        "# total app installs in each category of the play store\n",
        "\n",
        "a =df.groupby(['Category'])['Installs'].sum().sort_values()\n",
        "a.plot.barh(figsize=(15,10), color = 'c', )\n",
        "plt.ylabel('App category', fontsize = 13)\n",
        "plt.xlabel('Total app Installs', fontsize = 13)\n",
        "plt.xticks()\n",
        "plt.title('Total app installs in each category', fontsize = 20)"
      ],
      "metadata": {
        "id": "t6GMdE67YoAp"
      },
      "execution_count": null,
      "outputs": []
    },
    {
      "cell_type": "markdown",
      "source": [
        "##### 1. Why did you pick the specific chart?"
      ],
      "metadata": {
        "id": "fge-S5ZAYoAp"
      }
    },
    {
      "cell_type": "markdown",
      "source": [
        "Again this is the horizontal bar chart which is used to comapre two or more categorical data."
      ],
      "metadata": {
        "id": "5dBItgRVYoAp"
      }
    },
    {
      "cell_type": "markdown",
      "source": [
        "##### 2. What is/are the insight(s) found from the chart?"
      ],
      "metadata": {
        "id": "85gYPyotYoAp"
      }
    },
    {
      "cell_type": "markdown",
      "source": [
        "This tells us the category of apps that has the maximum number of installs. The Game, Communication and Tools categories has the highest number of installs compared to other categories of apps."
      ],
      "metadata": {
        "id": "4jstXR6OYoAp"
      }
    },
    {
      "cell_type": "markdown",
      "source": [
        "##### 3. Will the gained insights help creating a positive business impact?\n",
        "Are there any insights that lead to negative growth? Justify with specific reason."
      ],
      "metadata": {
        "id": "RoGjAbkUYoAp"
      }
    },
    {
      "cell_type": "markdown",
      "source": [
        "I do not see any category that have negative growth but there are some apps category like events,beauty,medical,parenting etc which have less number of install, so company have to work on them so that numbers of installs can increase of that categories."
      ],
      "metadata": {
        "id": "zfJ8IqMcYoAp"
      }
    },
    {
      "cell_type": "markdown",
      "source": [
        "#### Chart - 6 Average ratings of apps"
      ],
      "metadata": {
        "id": "4Of9eVA-YrdM"
      }
    },
    {
      "cell_type": "code",
      "source": [
        "# Chart - 6 visualization code\n",
        "# Average app ratings\n",
        "\n",
        "df['Rating'].value_counts().plot.bar(figsize=(20,8), color = 'm' )\n",
        "plt.xlabel('Average rating',fontsize = 15 )\n",
        "plt.ylabel('Number of apps', fontsize = 15)\n",
        "plt.title('Average rating of apps in Playstore', fontsize = 20)\n",
        "plt.legend()\n",
        "\n",
        "\n"
      ],
      "metadata": {
        "id": "irlUoxc8YrdO"
      },
      "execution_count": null,
      "outputs": []
    },
    {
      "cell_type": "markdown",
      "source": [
        "##### 1. Why did you pick the specific chart?"
      ],
      "metadata": {
        "id": "iky9q4vBYrdO"
      }
    },
    {
      "cell_type": "markdown",
      "source": [
        "This is vertical bar chart which is used to compare two or more categorical data"
      ],
      "metadata": {
        "id": "aJRCwT6DYrdO"
      }
    },
    {
      "cell_type": "markdown",
      "source": [
        "##### 2. What is/are the insight(s) found from the chart?"
      ],
      "metadata": {
        "id": "F6T5p64dYrdO"
      }
    },
    {
      "cell_type": "markdown",
      "source": [
        "From the above chart we can clearly see that more than 800 apps has 4.3 and 4.4 ratings and approx 300 apps has less than 4.0 ratings."
      ],
      "metadata": {
        "id": "Xx8WAJvtYrdO"
      }
    },
    {
      "cell_type": "markdown",
      "source": [
        "##### 3. Will the gained insights help creating a positive business impact?\n",
        "Are there any insights that lead to negative growth? Justify with specific reason."
      ],
      "metadata": {
        "id": "y-Ehk30pYrdP"
      }
    },
    {
      "cell_type": "markdown",
      "source": [
        "This graph shows the positive growth but Company has to work more on content of the apps so that ratings of apps can increase above 4.5."
      ],
      "metadata": {
        "id": "jLNxxz7MYrdP"
      }
    },
    {
      "cell_type": "markdown",
      "source": [
        "#### Chart - 7 Top ten installed apps on playstore"
      ],
      "metadata": {
        "id": "bamQiAODYuh1"
      }
    },
    {
      "cell_type": "code",
      "source": [
        "# Chart - 7 visualization code\n",
        "def findtop10incategory(str):\n",
        "    str = str.upper()\n",
        "    top10 =df[df['Category'] == str]\n",
        "    top10apps = top10.sort_values(by='Installs', ascending=False).head(10)\n",
        "    plt.figure(figsize=(15,6), dpi=90)\n",
        "    plt.title('Top 10 Installed Apps',size = 20)\n",
        "    graph = sns.barplot(x = top10apps.App, y = top10apps.Installs, palette= \"icefire\")\n",
        "    graph.set_xticklabels(graph.get_xticklabels(), rotation= 45, horizontalalignment='right')"
      ],
      "metadata": {
        "id": "TIJwrbroYuh3"
      },
      "execution_count": null,
      "outputs": []
    },
    {
      "cell_type": "code",
      "source": [
        "findtop10incategory('GAME')"
      ],
      "metadata": {
        "id": "I8fELlmsbq7u"
      },
      "execution_count": null,
      "outputs": []
    },
    {
      "cell_type": "markdown",
      "source": [
        "##### 1. Why did you pick the specific chart?"
      ],
      "metadata": {
        "id": "QHF8YVU7Yuh3"
      }
    },
    {
      "cell_type": "markdown",
      "source": [
        "This bar chart is to show which app has highest installs."
      ],
      "metadata": {
        "id": "dcxuIMRPYuh3"
      }
    },
    {
      "cell_type": "markdown",
      "source": [
        "##### 2. What is/are the insight(s) found from the chart?"
      ],
      "metadata": {
        "id": "GwzvFGzlYuh3"
      }
    },
    {
      "cell_type": "markdown",
      "source": [
        "From the above chart we can clearly see that subway sufers has highest number of installs and then number of installs is decreasing .This shows top 10 apps installed on playstore.  "
      ],
      "metadata": {
        "id": "uyqkiB8YYuh3"
      }
    },
    {
      "cell_type": "markdown",
      "source": [
        "##### 3. Will the gained insights help creating a positive business impact?\n",
        "Are there any insights that lead to negative growth? Justify with specific reason."
      ],
      "metadata": {
        "id": "qYpmQ266Yuh3"
      }
    },
    {
      "cell_type": "markdown",
      "source": [
        "Answer Here"
      ],
      "metadata": {
        "id": "_WtzZ_hCYuh4"
      }
    },
    {
      "cell_type": "markdown",
      "source": [
        "#### Chart - 8 Percent of apps share in each category"
      ],
      "metadata": {
        "id": "OH-pJp9IphqM"
      }
    },
    {
      "cell_type": "code",
      "source": [
        "# Chart - 8 visualization code\n",
        "# Percentage of apps belonging to each category in the playstore\n",
        "plt.figure(figsize=(18,18))\n",
        "plt.pie(df.Category.value_counts(), labels=df.Category.value_counts().index, autopct='%1.2f%%')\n",
        "my_circle = plt.Circle( (0,0), 0.50, color='white')\n",
        "p=plt.gcf()\n",
        "p.gca().add_artist(my_circle)\n",
        "plt.title('% of apps share in each Category', fontsize = 25)\n",
        "plt.show()"
      ],
      "metadata": {
        "id": "kuRf4wtuphqN"
      },
      "execution_count": null,
      "outputs": []
    },
    {
      "cell_type": "markdown",
      "source": [
        "##### 1. Why did you pick the specific chart?"
      ],
      "metadata": {
        "id": "bbFf2-_FphqN"
      }
    },
    {
      "cell_type": "markdown",
      "source": [
        "I chose this chart to  show the proportions of each category on playstore."
      ],
      "metadata": {
        "id": "loh7H2nzphqN"
      }
    },
    {
      "cell_type": "markdown",
      "source": [
        "##### 2. What is/are the insight(s) found from the chart?"
      ],
      "metadata": {
        "id": "_ouA3fa0phqN"
      }
    },
    {
      "cell_type": "markdown",
      "source": [
        "From this pie chart we can see that family category has highest perrcentage of apps on playstore and beauty category has lowest perentage of apps."
      ],
      "metadata": {
        "id": "VECbqPI7phqN"
      }
    },
    {
      "cell_type": "markdown",
      "source": [
        "##### 3. Will the gained insights help creating a positive business impact?\n",
        "Are there any insights that lead to negative growth? Justify with specific reason."
      ],
      "metadata": {
        "id": "Seke61FWphqN"
      }
    },
    {
      "cell_type": "markdown",
      "source": [
        "From insights we can say that Company should increase  the number of apps in those category which have lowest percentage of apps."
      ],
      "metadata": {
        "id": "DW4_bGpfphqN"
      }
    },
    {
      "cell_type": "markdown",
      "source": [
        "#### Chart - 9 Average App Ratings"
      ],
      "metadata": {
        "id": "PIIx-8_IphqN"
      }
    },
    {
      "cell_type": "code",
      "source": [
        "# Defining a function grouped_rating to group the ratings as mentioned above\n",
        "def Rating_app(val):\n",
        "  ''''\n",
        "  This function help to categories the rating from 1 to 5\n",
        "  as Top_rated,Above_average,Average & below Average\n",
        "  '''\n",
        "  if val>=4:\n",
        "    return 'Top rated'\n",
        "  elif val>3 and val<4:\n",
        "    return 'Above Average'\n",
        "  elif val>2 and val<3:\n",
        "    return 'Average'\n",
        "  else:\n",
        "    return 'Below Average'"
      ],
      "metadata": {
        "id": "F1Icb-QI7kuG"
      },
      "execution_count": null,
      "outputs": []
    },
    {
      "cell_type": "code",
      "source": [
        "# Chart - 9 visualization code\n",
        "# Applying grouped_rating function\n",
        "df['Rating_group']=df['Rating'].apply(lambda x: Rating_app(x))"
      ],
      "metadata": {
        "id": "lqAIGUfyphqO"
      },
      "execution_count": null,
      "outputs": []
    },
    {
      "cell_type": "code",
      "source": [
        "# Average app ratings\n",
        "df['Rating_group'].value_counts().plot.bar(figsize=(15,5), color = 'royalblue')\n",
        "plt.xlabel('Rating Group', fontsize = 12)\n",
        "plt.ylabel('Number of apps', fontsize = 12)\n",
        "plt.title('Average app ratings', fontsize = 18)\n",
        "plt.xticks(rotation=0)\n",
        "plt.legend()"
      ],
      "metadata": {
        "id": "Ee2Q2MKA7QV3"
      },
      "execution_count": null,
      "outputs": []
    },
    {
      "cell_type": "markdown",
      "source": [
        "##### 1. Why did you pick the specific chart?"
      ],
      "metadata": {
        "id": "t27r6nlMphqO"
      }
    },
    {
      "cell_type": "markdown",
      "source": [
        "This chart is to compare  different rating groups according to number of apps."
      ],
      "metadata": {
        "id": "iv6ro40sphqO"
      }
    },
    {
      "cell_type": "markdown",
      "source": [
        "##### 2. What is/are the insight(s) found from the chart?"
      ],
      "metadata": {
        "id": "r2jJGEOYphqO"
      }
    },
    {
      "cell_type": "markdown",
      "source": [
        "From above chart we can say that more than 8000 apps has top ratings and approx 50 apps has below average ratings."
      ],
      "metadata": {
        "id": "Po6ZPi4hphqO"
      }
    },
    {
      "cell_type": "markdown",
      "source": [
        "##### 3. Will the gained insights help creating a positive business impact?\n",
        "Are there any insights that lead to negative growth? Justify with specific reason."
      ],
      "metadata": {
        "id": "b0JNsNcRphqO"
      }
    },
    {
      "cell_type": "markdown",
      "source": [
        "From insights I can say that company should work on below average  apps rating and try to include those apps in top rated apps."
      ],
      "metadata": {
        "id": "xvSq8iUTphqO"
      }
    },
    {
      "cell_type": "markdown",
      "source": [
        "#### Chart - 10 In which category most free apps belong?"
      ],
      "metadata": {
        "id": "2vw4oB4fF-9n"
      }
    },
    {
      "cell_type": "code",
      "source": [
        " # Creating a df for only free apps\n",
        "\n",
        "free_df = df[df['Type'] == 'Free']"
      ],
      "metadata": {
        "id": "_TGoOOE3Hj_p"
      },
      "execution_count": null,
      "outputs": []
    },
    {
      "cell_type": "code",
      "source": [
        "# Creating a df for top free apps\n",
        "\n",
        "top_free_df = free_df[free_df['Installs'] == free_df['Installs'].max()]\n",
        "top10free_apps=top_free_df.nlargest(10, 'Installs', keep='first')\n",
        "top10free_apps.head(10)"
      ],
      "metadata": {
        "id": "1sDzKo_RHl0H"
      },
      "execution_count": null,
      "outputs": []
    },
    {
      "cell_type": "code",
      "source": [
        "# Top free apps\n",
        "\n",
        "top_free_df['App']"
      ],
      "metadata": {
        "id": "_F7Ha79qHrmd"
      },
      "execution_count": null,
      "outputs": []
    },
    {
      "cell_type": "code",
      "source": [
        "# Categories in which the top 20 free apps belong to\n",
        "top_free_df['Category'].value_counts().plot.bar(figsize=(20,6), color= ('darkcyan','blueviolet'))\n",
        "plt.xlabel('Category', size=15)\n",
        "plt.ylabel('Number of apps', size=15)\n",
        "plt.title('Categories in which the top 20 free apps belong', size=19)\n",
        "plt.xticks(rotation=45)\n",
        "plt.legend()"
      ],
      "metadata": {
        "id": "Nxq6Uak1Huaa"
      },
      "execution_count": null,
      "outputs": []
    },
    {
      "cell_type": "markdown",
      "source": [
        "##### 1. Why did you pick the specific chart?"
      ],
      "metadata": {
        "id": "03vjHZCGGYcJ"
      }
    },
    {
      "cell_type": "markdown",
      "source": [
        "This is bar chart to show difference between category against number of free apps."
      ],
      "metadata": {
        "id": "4Ff3Q-WUGajf"
      }
    },
    {
      "cell_type": "markdown",
      "source": [
        "##### 2. What is/are the insight(s) found from the chart?"
      ],
      "metadata": {
        "id": "5nJG5tbEGeBn"
      }
    },
    {
      "cell_type": "markdown",
      "source": [
        "From above chart I can say that communication category has 6 free apps and the numbers of free app is decreasing when we move forward"
      ],
      "metadata": {
        "id": "GpQq1i11JULv"
      }
    },
    {
      "cell_type": "markdown",
      "source": [
        "##### 3. Will the gained insights help creating a positive business impact?\n",
        "Are there any insights that lead to negative growth? Justify with specific reason."
      ],
      "metadata": {
        "id": "D_IyAyAEGyHO"
      }
    },
    {
      "cell_type": "markdown",
      "source": [
        "Answer here"
      ],
      "metadata": {
        "id": "YQ41Kut5Gztv"
      }
    },
    {
      "cell_type": "markdown",
      "source": [],
      "metadata": {
        "id": "efvI7apEGtNS"
      }
    },
    {
      "cell_type": "markdown",
      "source": [
        "#### Chart - 11 Percentage of Reviews in Sentiments"
      ],
      "metadata": {
        "id": "BZR9WyysphqO"
      }
    },
    {
      "cell_type": "code",
      "source": [
        "# Chart - 11 visualization code\n",
        "counts = list(data['Sentiment'].value_counts())\n",
        "labels = 'Positive Reviews', 'Negative Reviews','Neutral Reviews'\n",
        "plt.rcParams['font.size'] = 20\n",
        "plt.rcParams['figure.figsize'] = (10, 15)\n",
        "plt.pie(counts, labels=labels, explode=[0.01, 0.05, 0.05], shadow=True, autopct=\"%.2f%%\")\n",
        "plt.title('Percentage of Review Sentiments', fontsize=20)\n",
        "plt.axis('off')\n",
        "plt.legend(bbox_to_anchor=(0.9, 0, 0.5, 1))\n",
        "plt.show()"
      ],
      "metadata": {
        "id": "TdPTWpAVphqO"
      },
      "execution_count": null,
      "outputs": []
    },
    {
      "cell_type": "markdown",
      "source": [
        "##### 1. Why did you pick the specific chart?"
      ],
      "metadata": {
        "id": "jj7wYXLtphqO"
      }
    },
    {
      "cell_type": "markdown",
      "source": [
        "This chart i have chose to show proportions of positive,negatve and neutral reviews."
      ],
      "metadata": {
        "id": "Ob8u6rCTphqO"
      }
    },
    {
      "cell_type": "markdown",
      "source": [
        "##### 2. What is/are the insight(s) found from the chart?"
      ],
      "metadata": {
        "id": "eZrbJ2SmphqO"
      }
    },
    {
      "cell_type": "markdown",
      "source": [
        "From above  chart we can say that 64.12% has positive ratings and 22.10% has negative reviews and rest are neutral reviews."
      ],
      "metadata": {
        "id": "mZtgC_hjphqO"
      }
    },
    {
      "cell_type": "markdown",
      "source": [
        "##### 3. Will the gained insights help creating a positive business impact?\n",
        "Are there any insights that lead to negative growth? Justify with specific reason."
      ],
      "metadata": {
        "id": "rFu4xreNphqO"
      }
    },
    {
      "cell_type": "markdown",
      "source": [
        "By taking reference of above insights company has to work on neagtive reviews and try to eliminate those reviews and convert those in positive."
      ],
      "metadata": {
        "id": "ey_0qi68phqO"
      }
    },
    {
      "cell_type": "markdown",
      "source": [
        "#### Chart - 12 Top 10 positive app reviews"
      ],
      "metadata": {
        "id": "YJ55k-q6phqO"
      }
    },
    {
      "cell_type": "code",
      "source": [
        "# positive reviews\n",
        "positive_ur_df=data[data['Sentiment']=='Positive']\n",
        "positive_ur_df"
      ],
      "metadata": {
        "id": "jTqN-Ty6B0Uv"
      },
      "execution_count": null,
      "outputs": []
    },
    {
      "cell_type": "code",
      "source": [
        "positive_ur_df.groupby('App')['Sentiment'].value_counts().nlargest(10).plot.barh(figsize=(10,8),color='seagreen').invert_yaxis()\n",
        "plt.title(\"Top 10 positive review apps\")\n",
        "plt.xlabel('Total number of positive reviews')\n",
        "plt.legend()"
      ],
      "metadata": {
        "id": "Gm27ZMcWD-t9"
      },
      "execution_count": null,
      "outputs": []
    },
    {
      "cell_type": "markdown",
      "source": [
        "##### 1. Why did you pick the specific chart?"
      ],
      "metadata": {
        "id": "gCFgpxoyphqP"
      }
    },
    {
      "cell_type": "markdown",
      "source": [
        "This horizontal bar chart is choosen for comparing two or more apps sentiment against total numbers of positive reviews."
      ],
      "metadata": {
        "id": "TVxDimi2phqP"
      }
    },
    {
      "cell_type": "markdown",
      "source": [
        "##### 2. What is/are the insight(s) found from the chart?"
      ],
      "metadata": {
        "id": "OVtJsKN_phqQ"
      }
    },
    {
      "cell_type": "markdown",
      "source": [
        "from refering above chart I can say that Helix jump has more than 200 positive reviews and numbers of positive review is decreasing by different apps."
      ],
      "metadata": {
        "id": "ngGi97qjphqQ"
      }
    },
    {
      "cell_type": "markdown",
      "source": [
        "##### 3. Will the gained insights help creating a positive business impact?\n",
        "Are there any insights that lead to negative growth? Justify with specific reason."
      ],
      "metadata": {
        "id": "lssrdh5qphqQ"
      }
    },
    {
      "cell_type": "markdown",
      "source": [
        "Answer Here"
      ],
      "metadata": {
        "id": "tBpY5ekJphqQ"
      }
    },
    {
      "cell_type": "markdown",
      "source": [
        "#### Chart - 13 Top 10 Negative app Reviews"
      ],
      "metadata": {
        "id": "U2RJ9gkRphqQ"
      }
    },
    {
      "cell_type": "code",
      "source": [
        "negative_ur_df=data[data['Sentiment']=='Negative']\n",
        "negative_ur_df"
      ],
      "metadata": {
        "id": "lTkI5mNuHrjM"
      },
      "execution_count": null,
      "outputs": []
    },
    {
      "cell_type": "code",
      "source": [
        "# Chart - 13 visualization code\n",
        "negative_ur_df.groupby('App')['Sentiment'].value_counts().nlargest(10).plot.barh(figsize=(15,8),color='crimson').invert_yaxis()\n",
        "plt.title(\"Top 10 negative review apps\")\n",
        "plt.xlabel('Total number of negative reviews')\n",
        "plt.legend()"
      ],
      "metadata": {
        "id": "GM7a4YP4phqQ"
      },
      "execution_count": null,
      "outputs": []
    },
    {
      "cell_type": "markdown",
      "source": [
        "##### 1. Why did you pick the specific chart?"
      ],
      "metadata": {
        "id": "1M8mcRywphqQ"
      }
    },
    {
      "cell_type": "markdown",
      "source": [
        "Again the same chart for showing negtive reviews."
      ],
      "metadata": {
        "id": "8agQvks0phqQ"
      }
    },
    {
      "cell_type": "markdown",
      "source": [
        "##### 2. What is/are the insight(s) found from the chart?"
      ],
      "metadata": {
        "id": "tgIPom80phqQ"
      }
    },
    {
      "cell_type": "markdown",
      "source": [
        "From above chart I can clearly see that Angry bird classic has highest negative reviews and negative reviews are decresing as we go down."
      ],
      "metadata": {
        "id": "Qp13pnNzphqQ"
      }
    },
    {
      "cell_type": "markdown",
      "source": [
        "##### 3. Will the gained insights help creating a positive business impact?\n",
        "Are there any insights that lead to negative growth? Justify with specific reason."
      ],
      "metadata": {
        "id": "JMzcOPDDphqR"
      }
    },
    {
      "cell_type": "markdown",
      "source": [
        "Refering the above insight company has to work on content of  highest negative reviews."
      ],
      "metadata": {
        "id": "R4Ka1PC2phqR"
      }
    },
    {
      "cell_type": "markdown",
      "source": [
        "#### Chart - 14 Paid apps update over months"
      ],
      "metadata": {
        "id": "x-EpHcCOp1ci"
      }
    },
    {
      "cell_type": "code",
      "source": [
        "df.columns"
      ],
      "metadata": {
        "id": "-UDxsuBRWpgB"
      },
      "execution_count": null,
      "outputs": []
    },
    {
      "cell_type": "code",
      "source": [
        "# Creating a df containing only paid apps\n",
        "paid_df=df[df['Type']=='Paid']"
      ],
      "metadata": {
        "id": "jQkyiwopV1lh"
      },
      "execution_count": null,
      "outputs": []
    },
    {
      "cell_type": "code",
      "source": [
        "# Creatng a new column 'Revenue' in paid_df\n",
        "paid_df['Revenue'] = paid_df['Installs']*paid_df['price in dollar']\n",
        "paid_df.head()"
      ],
      "metadata": {
        "id": "NnzsZQ-bV-gO"
      },
      "execution_count": null,
      "outputs": []
    },
    {
      "cell_type": "code",
      "source": [
        "# Top app in the paid category\n",
        "\n",
        "paid_df[paid_df['Revenue'] == paid_df['Revenue'].max()]"
      ],
      "metadata": {
        "id": "MQ5b-TBhWEsX"
      },
      "execution_count": null,
      "outputs": []
    },
    {
      "cell_type": "code",
      "source": [
        "paid_df[\"Update month\"] = paid_df[\"Last Updated\"].apply(lambda x: x.strftime('%m')).astype('int64')\n",
        "free_df[\"Update month\"] = free_df[\"Last Updated\"].apply(lambda x: x.strftime('%m')).astype('int64')"
      ],
      "metadata": {
        "id": "yn8Gi2g9NWAi"
      },
      "execution_count": null,
      "outputs": []
    },
    {
      "cell_type": "code",
      "source": [
        "# Chart - 14 visualization code\n",
        "paid_df.groupby(\"Update month\")[\"App\"].count().plot.bar(figsize=(10,8), color= \"green\")\n",
        "plt.title(\"Paid Apps update over the month\", size=20)\n",
        "plt.legend()"
      ],
      "metadata": {
        "id": "mAQTIvtqp1cj"
      },
      "execution_count": null,
      "outputs": []
    },
    {
      "cell_type": "markdown",
      "source": [
        "##### 1. Why did you pick the specific chart?"
      ],
      "metadata": {
        "id": "X_VqEhTip1ck"
      }
    },
    {
      "cell_type": "markdown",
      "source": [
        "This bar chart is to show comparision based on numbers of paid  apps updates over different months."
      ],
      "metadata": {
        "id": "-vsMzt_np1ck"
      }
    },
    {
      "cell_type": "markdown",
      "source": [
        "##### 2. What is/are the insight(s) found from the chart?"
      ],
      "metadata": {
        "id": "8zGJKyg5p1ck"
      }
    },
    {
      "cell_type": "markdown",
      "source": [
        "I can say that in 7th month highest numbers of paid apps get updates."
      ],
      "metadata": {
        "id": "ZYdMsrqVp1ck"
      }
    },
    {
      "cell_type": "markdown",
      "source": [
        "##### 3. Will the gained insights help creating a positive business impact?\n",
        "Are there any insights that lead to negative growth? Justify with specific reason."
      ],
      "metadata": {
        "id": "PVzmfK_Ep1ck"
      }
    },
    {
      "cell_type": "markdown",
      "source": [
        "Answer Here"
      ],
      "metadata": {
        "id": "druuKYZpp1ck"
      }
    },
    {
      "cell_type": "markdown",
      "source": [
        "#### Chart - 15  Free apps update over months"
      ],
      "metadata": {
        "id": "n3dbpmDWp1ck"
      }
    },
    {
      "cell_type": "code",
      "source": [
        "# Chart - 15 visualization code\n",
        "free_df.groupby(\"Update month\")[\"App\"].count().plot.bar(figsize=(10,8), color='purple')\n",
        "plt.title(\"Free Apps update over the month\", size=20)\n",
        "plt.legend()"
      ],
      "metadata": {
        "id": "bwevp1tKp1ck"
      },
      "execution_count": null,
      "outputs": []
    },
    {
      "cell_type": "markdown",
      "source": [
        "##### 1. Why did you pick the specific chart?"
      ],
      "metadata": {
        "id": "ylSl6qgtp1ck"
      }
    },
    {
      "cell_type": "markdown",
      "source": [
        "Answer Here."
      ],
      "metadata": {
        "id": "m2xqNkiQp1ck"
      }
    },
    {
      "cell_type": "markdown",
      "source": [
        "##### 2. What is/are the insight(s) found from the chart?"
      ],
      "metadata": {
        "id": "ZWILFDl5p1ck"
      }
    },
    {
      "cell_type": "markdown",
      "source": [
        "If we compare both paid and free apps update then we will get both apps get highest numbers of app updates in 7th month"
      ],
      "metadata": {
        "id": "x-lUsV2mp1ck"
      }
    },
    {
      "cell_type": "markdown",
      "source": [
        "##### 3. Will the gained insights help creating a positive business impact?\n",
        "Are there any insights that lead to negative growth? Justify with specific reason."
      ],
      "metadata": {
        "id": "M7G43BXep1ck"
      }
    },
    {
      "cell_type": "markdown",
      "source": [
        "Answer Here"
      ],
      "metadata": {
        "id": "5wwDJXsLp1cl"
      }
    },
    {
      "cell_type": "markdown",
      "source": [
        "## **5. Solution to Business Objective**"
      ],
      "metadata": {
        "id": "JcMwzZxoAimU"
      }
    },
    {
      "cell_type": "markdown",
      "source": [
        "#### What do you suggest the client to achieve Business Objective ?\n",
        "Explain Briefly."
      ],
      "metadata": {
        "id": "8G2x9gOozGDZ"
      }
    },
    {
      "cell_type": "markdown",
      "source": [
        "By observing above insights I can suggest the client to focus more on that categories which has less numbers of apps.If client has already invested in these categories then I would suggest to improve content,if content improved then ratings will also improve,if rating improves then number of installs will automatically.If you observe then you will come to know that these parameter is interrelated.So client should focus on content."
      ],
      "metadata": {
        "id": "pASKb0qOza21"
      }
    },
    {
      "cell_type": "markdown",
      "source": [
        "# **Conclusion**"
      ],
      "metadata": {
        "id": "gCX9965dhzqZ"
      }
    },
    {
      "cell_type": "markdown",
      "source": [
        "* Developing apps related to the least categories as they are not explored much like events and beauty.\n",
        "* Most of the apps are Free, so focusing on free app is more important.\n",
        "* Focusing more on content available for Everyone will increase the chances of getting the highest installs.\n",
        "* They need to focus on updating their apps regularly, so that it will attract more users.\n",
        "* They need to keep in mind that the sentiments of the user keep varying as they keep using the app, so they should focus more on users needs and features."
      ],
      "metadata": {
        "id": "Fjb1IsQkh3yE"
      }
    },
    {
      "cell_type": "markdown",
      "source": [
        "### ***Hurrah! You have successfully completed your EDA Capstone Project !!!***"
      ],
      "metadata": {
        "id": "gIfDvo9L0UH2"
      }
    }
  ]
}